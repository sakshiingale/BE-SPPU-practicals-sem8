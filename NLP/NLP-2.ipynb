{
 "cells": [
  {
   "cell_type": "code",
   "execution_count": 1,
   "id": "6dc89fb2-e060-482b-bf53-c6cc92bc89c2",
   "metadata": {},
   "outputs": [],
   "source": [
    "import pandas as pd\n",
    "import numpy as np\n",
    "import nltk\n",
    "import re\n",
    "import string\n",
    "from sklearn.feature_extraction.text import CountVectorizer, TfidfVectorizer\n",
    "from gensim.models import Word2Vec\n",
    "from nltk.corpus import stopwords"
   ]
  },
  {
   "cell_type": "code",
   "execution_count": 2,
   "id": "1facecda-003f-4db2-a7fd-d992565e3bd5",
   "metadata": {},
   "outputs": [
    {
     "name": "stderr",
     "output_type": "stream",
     "text": [
      "[nltk_data] Downloading package stopwords to\n",
      "[nltk_data]     C:\\Users\\Sakshi\\AppData\\Roaming\\nltk_data...\n",
      "[nltk_data]   Unzipping corpora\\stopwords.zip.\n"
     ]
    }
   ],
   "source": [
    "# Download NLTK stopwords\n",
    "nltk.download('stopwords')\n",
    "stop_words = set(stopwords.words('english'))"
   ]
  },
  {
   "cell_type": "code",
   "execution_count": 4,
   "id": "e2d2685f-c2a0-409b-87d7-93426ca947d2",
   "metadata": {},
   "outputs": [
    {
     "name": "stdout",
     "output_type": "stream",
     "text": [
      "  Make       Model  Year             Engine Fuel Type  Engine HP  \\\n",
      "0  BMW  1 Series M  2011  premium unleaded (required)      335.0   \n",
      "1  BMW    1 Series  2011  premium unleaded (required)      300.0   \n",
      "2  BMW    1 Series  2011  premium unleaded (required)      300.0   \n",
      "3  BMW    1 Series  2011  premium unleaded (required)      230.0   \n",
      "4  BMW    1 Series  2011  premium unleaded (required)      230.0   \n",
      "\n",
      "   Engine Cylinders Transmission Type     Driven_Wheels  Number of Doors  \\\n",
      "0               6.0            MANUAL  rear wheel drive              2.0   \n",
      "1               6.0            MANUAL  rear wheel drive              2.0   \n",
      "2               6.0            MANUAL  rear wheel drive              2.0   \n",
      "3               6.0            MANUAL  rear wheel drive              2.0   \n",
      "4               6.0            MANUAL  rear wheel drive              2.0   \n",
      "\n",
      "                         Market Category Vehicle Size Vehicle Style  \\\n",
      "0  Factory Tuner,Luxury,High-Performance      Compact         Coupe   \n",
      "1                     Luxury,Performance      Compact   Convertible   \n",
      "2                Luxury,High-Performance      Compact         Coupe   \n",
      "3                     Luxury,Performance      Compact         Coupe   \n",
      "4                                 Luxury      Compact   Convertible   \n",
      "\n",
      "   highway MPG  city mpg  Popularity   MSRP  \n",
      "0           26        19        3916  46135  \n",
      "1           28        19        3916  40650  \n",
      "2           28        20        3916  36350  \n",
      "3           28        18        3916  29450  \n",
      "4           28        18        3916  34500  \n"
     ]
    }
   ],
   "source": [
    "df = pd.read_csv(\"cars.csv\")  # Ensure the file is in the working directory\n",
    "\n",
    "print(df.head())\n"
   ]
  },
  {
   "cell_type": "code",
   "execution_count": 6,
   "id": "a4d313cf-fb4d-419b-a1f8-b9575825d56d",
   "metadata": {},
   "outputs": [],
   "source": [
    "def preprocess_text(text):\n",
    "    text = text.lower()  # Lowercase\n",
    "    text = re.sub(f\"[{string.punctuation}]\", \"\", text)  # Remove punctuation\n",
    "    text = re.sub(r\"\\d+\", \"\", text)  # Use raw string for regex\n",
    "    text = \" \".join([word for word in text.split() if word not in stop_words])  # Remove stopwords\n",
    "    return text"
   ]
  },
  {
   "cell_type": "code",
   "execution_count": 7,
   "id": "662c2e3f-7ffa-4a5b-92a5-c5842766b07f",
   "metadata": {},
   "outputs": [],
   "source": [
    "# Apply preprocessing\n",
    "df[\"clean_text\"] = df[\"Market Category\"].astype(str).apply(preprocess_text)"
   ]
  },
  {
   "cell_type": "code",
   "execution_count": 8,
   "id": "6f7d5008-06b9-4c5a-b5c4-40668d4f152d",
   "metadata": {},
   "outputs": [],
   "source": [
    "# Bag-of-Words (Count Vectorizer)\n",
    "vectorizer = CountVectorizer()\n",
    "X_bow = vectorizer.fit_transform(df[\"clean_text\"])"
   ]
  },
  {
   "cell_type": "code",
   "execution_count": 9,
   "id": "3a2aa10e-fc10-44dc-b291-65314a4400e8",
   "metadata": {},
   "outputs": [
    {
     "name": "stdout",
     "output_type": "stream",
     "text": [
      "Bag-of-Words (BoW) Matrix:\n",
      "   crossover  crossoverdiesel  crossoverexoticluxuryhighperformance  \\\n",
      "0          0                0                                     0   \n",
      "1          0                0                                     0   \n",
      "2          0                0                                     0   \n",
      "3          0                0                                     0   \n",
      "4          0                0                                     0   \n",
      "\n",
      "   crossoverexoticluxuryperformance  crossoverfactory  crossoverflex  \\\n",
      "0                                 0                 0              0   \n",
      "1                                 0                 0              0   \n",
      "2                                 0                 0              0   \n",
      "3                                 0                 0              0   \n",
      "4                                 0                 0              0   \n",
      "\n",
      "   crossoverhatchback  crossoverhatchbackfactory  crossoverhatchbackluxury  \\\n",
      "0                   0                          0                         0   \n",
      "1                   0                          0                         0   \n",
      "2                   0                          0                         0   \n",
      "3                   0                          0                         0   \n",
      "4                   0                          0                         0   \n",
      "\n",
      "   crossoverhatchbackperformance  ...  luxuryperformance  \\\n",
      "0                              0  ...                  0   \n",
      "1                              0  ...                  1   \n",
      "2                              0  ...                  0   \n",
      "3                              0  ...                  1   \n",
      "4                              0  ...                  0   \n",
      "\n",
      "   luxuryperformancehybrid  nan  performance  performancehybrid  \\\n",
      "0                        0    0            0                  0   \n",
      "1                        0    0            0                  0   \n",
      "2                        0    0            0                  0   \n",
      "3                        0    0            0                  0   \n",
      "4                        0    0            0                  0   \n",
      "\n",
      "   tunerhighperformance  tunerluxury  tunerluxuryhighperformance  \\\n",
      "0                     0            0                           1   \n",
      "1                     0            0                           0   \n",
      "2                     0            0                           0   \n",
      "3                     0            0                           0   \n",
      "4                     0            0                           0   \n",
      "\n",
      "   tunerluxuryperformance  tunerperformance  \n",
      "0                       0                 0  \n",
      "1                       0                 0  \n",
      "2                       0                 0  \n",
      "3                       0                 0  \n",
      "4                       0                 0  \n",
      "\n",
      "[5 rows x 64 columns]\n"
     ]
    }
   ],
   "source": [
    "# Convert to DataFrame\n",
    "bow_df = pd.DataFrame(X_bow.toarray(), columns=vectorizer.get_feature_names_out())\n",
    "print(\"Bag-of-Words (BoW) Matrix:\")\n",
    "print(bow_df.head())"
   ]
  },
  {
   "cell_type": "code",
   "execution_count": 10,
   "id": "2029e02c-6051-4205-8958-bb4a7dfa9b86",
   "metadata": {},
   "outputs": [
    {
     "name": "stdout",
     "output_type": "stream",
     "text": [
      "Normalized BoW:\n",
      "   crossover  crossoverdiesel  crossoverexoticluxuryhighperformance  \\\n",
      "0        0.0              0.0                                   0.0   \n",
      "1        0.0              0.0                                   0.0   \n",
      "2        0.0              0.0                                   0.0   \n",
      "3        0.0              0.0                                   0.0   \n",
      "4        0.0              0.0                                   0.0   \n",
      "\n",
      "   crossoverexoticluxuryperformance  crossoverfactory  crossoverflex  \\\n",
      "0                               0.0               0.0            0.0   \n",
      "1                               0.0               0.0            0.0   \n",
      "2                               0.0               0.0            0.0   \n",
      "3                               0.0               0.0            0.0   \n",
      "4                               0.0               0.0            0.0   \n",
      "\n",
      "   crossoverhatchback  crossoverhatchbackfactory  crossoverhatchbackluxury  \\\n",
      "0                 0.0                        0.0                       0.0   \n",
      "1                 0.0                        0.0                       0.0   \n",
      "2                 0.0                        0.0                       0.0   \n",
      "3                 0.0                        0.0                       0.0   \n",
      "4                 0.0                        0.0                       0.0   \n",
      "\n",
      "   crossoverhatchbackperformance  ...  luxuryperformance  \\\n",
      "0                            0.0  ...                0.0   \n",
      "1                            0.0  ...                1.0   \n",
      "2                            0.0  ...                0.0   \n",
      "3                            0.0  ...                1.0   \n",
      "4                            0.0  ...                0.0   \n",
      "\n",
      "   luxuryperformancehybrid  nan  performance  performancehybrid  \\\n",
      "0                      0.0  0.0          0.0                0.0   \n",
      "1                      0.0  0.0          0.0                0.0   \n",
      "2                      0.0  0.0          0.0                0.0   \n",
      "3                      0.0  0.0          0.0                0.0   \n",
      "4                      0.0  0.0          0.0                0.0   \n",
      "\n",
      "   tunerhighperformance  tunerluxury  tunerluxuryhighperformance  \\\n",
      "0                   0.0          0.0                    0.707107   \n",
      "1                   0.0          0.0                    0.000000   \n",
      "2                   0.0          0.0                    0.000000   \n",
      "3                   0.0          0.0                    0.000000   \n",
      "4                   0.0          0.0                    0.000000   \n",
      "\n",
      "   tunerluxuryperformance  tunerperformance  \n",
      "0                     0.0               0.0  \n",
      "1                     0.0               0.0  \n",
      "2                     0.0               0.0  \n",
      "3                     0.0               0.0  \n",
      "4                     0.0               0.0  \n",
      "\n",
      "[5 rows x 64 columns]\n"
     ]
    }
   ],
   "source": [
    "# Normalized Count (TF)\n",
    "X_bow_normalized = X_bow.toarray() / np.linalg.norm(X_bow.toarray(), axis=1, keepdims=True)\n",
    "normalized_bow_df = pd.DataFrame(X_bow_normalized, columns=vectorizer.get_feature_names_out())\n",
    "print(\"Normalized BoW:\")\n",
    "print(normalized_bow_df.head())"
   ]
  },
  {
   "cell_type": "code",
   "execution_count": 11,
   "id": "5a480e3c-8214-498e-9617-fe2058641808",
   "metadata": {},
   "outputs": [
    {
     "name": "stdout",
     "output_type": "stream",
     "text": [
      "TF-IDF Matrix:\n",
      "   crossover  crossoverdiesel  crossoverexoticluxuryhighperformance  \\\n",
      "0        0.0              0.0                                   0.0   \n",
      "1        0.0              0.0                                   0.0   \n",
      "2        0.0              0.0                                   0.0   \n",
      "3        0.0              0.0                                   0.0   \n",
      "4        0.0              0.0                                   0.0   \n",
      "\n",
      "   crossoverexoticluxuryperformance  crossoverfactory  crossoverflex  \\\n",
      "0                               0.0               0.0            0.0   \n",
      "1                               0.0               0.0            0.0   \n",
      "2                               0.0               0.0            0.0   \n",
      "3                               0.0               0.0            0.0   \n",
      "4                               0.0               0.0            0.0   \n",
      "\n",
      "   crossoverhatchback  crossoverhatchbackfactory  crossoverhatchbackluxury  \\\n",
      "0                 0.0                        0.0                       0.0   \n",
      "1                 0.0                        0.0                       0.0   \n",
      "2                 0.0                        0.0                       0.0   \n",
      "3                 0.0                        0.0                       0.0   \n",
      "4                 0.0                        0.0                       0.0   \n",
      "\n",
      "   crossoverhatchbackperformance  ...  luxuryperformance  \\\n",
      "0                            0.0  ...                0.0   \n",
      "1                            0.0  ...                1.0   \n",
      "2                            0.0  ...                0.0   \n",
      "3                            0.0  ...                1.0   \n",
      "4                            0.0  ...                0.0   \n",
      "\n",
      "   luxuryperformancehybrid  nan  performance  performancehybrid  \\\n",
      "0                      0.0  0.0          0.0                0.0   \n",
      "1                      0.0  0.0          0.0                0.0   \n",
      "2                      0.0  0.0          0.0                0.0   \n",
      "3                      0.0  0.0          0.0                0.0   \n",
      "4                      0.0  0.0          0.0                0.0   \n",
      "\n",
      "   tunerhighperformance  tunerluxury  tunerluxuryhighperformance  \\\n",
      "0                   0.0          0.0                    0.735933   \n",
      "1                   0.0          0.0                    0.000000   \n",
      "2                   0.0          0.0                    0.000000   \n",
      "3                   0.0          0.0                    0.000000   \n",
      "4                   0.0          0.0                    0.000000   \n",
      "\n",
      "   tunerluxuryperformance  tunerperformance  \n",
      "0                     0.0               0.0  \n",
      "1                     0.0               0.0  \n",
      "2                     0.0               0.0  \n",
      "3                     0.0               0.0  \n",
      "4                     0.0               0.0  \n",
      "\n",
      "[5 rows x 64 columns]\n"
     ]
    }
   ],
   "source": [
    "# TF-IDF Representation\n",
    "tfidf_vectorizer = TfidfVectorizer()\n",
    "X_tfidf = tfidf_vectorizer.fit_transform(df[\"clean_text\"])\n",
    "tfidf_df = pd.DataFrame(X_tfidf.toarray(), columns=tfidf_vectorizer.get_feature_names_out())\n",
    "print(\"TF-IDF Matrix:\")\n",
    "print(tfidf_df.head())"
   ]
  },
  {
   "cell_type": "code",
   "execution_count": 12,
   "id": "cb37b829-dbf3-46bd-ab2f-1b968dcfeb92",
   "metadata": {},
   "outputs": [],
   "source": [
    "# Word2Vec Model Training\n",
    "sentences = [text.split() for text in df[\"clean_text\"]]\n",
    "word2vec_model = Word2Vec(sentences, vector_size=100, window=5, min_count=2, workers=4)"
   ]
  },
  {
   "cell_type": "code",
   "execution_count": 13,
   "id": "589152cd-e7a0-4d05-9cc2-4bebc59aefb9",
   "metadata": {},
   "outputs": [
    {
     "name": "stdout",
     "output_type": "stream",
     "text": [
      "Word2Vec embedding for 'tunerluxury': [ 9.0507627e-04  6.4770305e-03 -6.4871842e-03  6.9467081e-03\n",
      "  1.0097923e-02  3.5949335e-03  3.5540434e-03  4.6282620e-03\n",
      " -2.0499863e-03 -8.2737878e-03  1.6538417e-03  5.1584817e-04\n",
      " -6.6134292e-03  1.9699475e-03  5.8008851e-03 -7.3629986e-03\n",
      "  2.2750068e-03  7.3652314e-03 -8.8595133e-03  2.8714687e-03\n",
      " -8.6921090e-03 -7.6437937e-03  7.1683950e-03 -8.0605652e-03\n",
      " -1.3348481e-03 -7.7957073e-03 -7.7968929e-03 -7.1245488e-03\n",
      "  1.3781819e-04  1.3669492e-03 -7.7214064e-03 -8.7740179e-03\n",
      " -3.0558482e-03 -1.9984511e-03 -6.4129625e-03 -3.8469916e-03\n",
      "  3.7309532e-03  3.0830307e-03  6.0999831e-03  3.9166873e-03\n",
      " -1.1364750e-03  2.4373489e-03  8.8678058e-03  2.1793256e-03\n",
      "  2.1238124e-03  7.0815551e-04 -9.0326313e-03  4.9239760e-03\n",
      "  5.0107930e-03  2.6646428e-04  9.0237912e-03 -6.0921446e-03\n",
      "  3.2548709e-03 -7.5186361e-03 -9.2814034e-03  1.9541003e-03\n",
      "  5.0730356e-03  5.8909254e-03 -8.8809226e-03  4.3091187e-03\n",
      "  2.6083004e-03  4.0412378e-03  7.2034309e-06  5.6534875e-03\n",
      "  6.6361302e-03 -8.1380270e-03 -1.0304398e-02  7.7526616e-03\n",
      " -1.4486846e-03 -8.9229001e-03 -3.9625950e-03  1.6769981e-03\n",
      "  8.9873569e-03 -1.4549382e-03 -7.2730740e-04 -7.4532954e-03\n",
      " -7.8694075e-03  1.5869247e-03 -8.3503162e-04 -8.1980499e-03\n",
      "  8.7885692e-04 -9.4152661e-03 -3.1082020e-03  4.3091434e-03\n",
      "  1.2002428e-03  7.8775035e-03  6.2354165e-03 -1.6497929e-03\n",
      "  5.0345319e-03  6.4173159e-03  8.6255874e-03  9.3344077e-03\n",
      "  5.2287867e-03  4.6153623e-03  7.6408093e-03 -9.6020760e-04\n",
      " -5.7095317e-03  8.9758541e-03  1.2892375e-03 -5.4750484e-03]\n"
     ]
    }
   ],
   "source": [
    "# Example: Word embedding for a sample word\n",
    "word = \"tunerluxury\"  \n",
    "if word in word2vec_model.wv:\n",
    "    print(f\"Word2Vec embedding for '{word}':\", word2vec_model.wv[word])\n",
    "else:\n",
    "    print(f\"'{word}' not found in Word2Vec vocabulary.\")"
   ]
  },
  {
   "cell_type": "code",
   "execution_count": 14,
   "id": "dc123266-a5d5-4ad4-b3f1-4e536ba9eb94",
   "metadata": {},
   "outputs": [
    {
     "name": "stdout",
     "output_type": "stream",
     "text": [
      "Word2Vec model saved successfully.\n"
     ]
    }
   ],
   "source": [
    "# Save Word2Vec Model\n",
    "word2vec_model.save(\"word2vec_car_model.model\")\n",
    "print(\"Word2Vec model saved successfully.\")"
   ]
  },
  {
   "cell_type": "code",
   "execution_count": null,
   "id": "7ea81be8-1f0d-4f02-84bf-0576a206b238",
   "metadata": {},
   "outputs": [],
   "source": []
  }
 ],
 "metadata": {
  "kernelspec": {
   "display_name": "Python 3 (ipykernel)",
   "language": "python",
   "name": "python3"
  },
  "language_info": {
   "codemirror_mode": {
    "name": "ipython",
    "version": 3
   },
   "file_extension": ".py",
   "mimetype": "text/x-python",
   "name": "python",
   "nbconvert_exporter": "python",
   "pygments_lexer": "ipython3",
   "version": "3.12.7"
  }
 },
 "nbformat": 4,
 "nbformat_minor": 5
}
