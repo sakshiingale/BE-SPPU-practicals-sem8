{
 "cells": [
  {
   "cell_type": "code",
   "execution_count": 1,
   "id": "47816720-8237-4c43-905a-22d72bc189eb",
   "metadata": {},
   "outputs": [],
   "source": [
    "import nltk\n",
    "from nltk.tokenize import WhitespaceTokenizer, WordPunctTokenizer, TreebankWordTokenizer, TweetTokenizer\n",
    "from nltk.tokenize.mwe import MWETokenizer\n",
    "from nltk.stem import PorterStemmer, SnowballStemmer\n",
    "from nltk.stem import WordNetLemmatizer"
   ]
  },
  {
   "cell_type": "code",
   "execution_count": 2,
   "id": "04ca8b7a-1a1b-40fd-8ce4-109f231207fe",
   "metadata": {},
   "outputs": [
    {
     "name": "stderr",
     "output_type": "stream",
     "text": [
      "[nltk_data] Downloading package wordnet to\n",
      "[nltk_data]     C:\\Users\\Sakshi\\AppData\\Roaming\\nltk_data...\n",
      "[nltk_data]   Package wordnet is already up-to-date!\n",
      "[nltk_data] Downloading package omw-1.4 to\n",
      "[nltk_data]     C:\\Users\\Sakshi\\AppData\\Roaming\\nltk_data...\n"
     ]
    },
    {
     "data": {
      "text/plain": [
       "True"
      ]
     },
     "execution_count": 2,
     "metadata": {},
     "output_type": "execute_result"
    }
   ],
   "source": [
    "nltk.download('wordnet')\n",
    "nltk.download('omw-1.4')"
   ]
  },
  {
   "cell_type": "code",
   "execution_count": 3,
   "id": "7a5c7777-458c-4be3-b8db-d87f363a38b6",
   "metadata": {},
   "outputs": [],
   "source": [
    "sentence = \"NLTK is a powerful library for NLP! It's widely used in academia & industry.  \"\n"
   ]
  },
  {
   "cell_type": "code",
   "execution_count": 4,
   "id": "26e9da4c-10e9-49b7-b874-7ff8c5a1037a",
   "metadata": {},
   "outputs": [],
   "source": [
    "# Tokenization\n",
    "whitespace_tokenizer = WhitespaceTokenizer()\n",
    "punctuation_tokenizer = WordPunctTokenizer()\n",
    "treebank_tokenizer = TreebankWordTokenizer()\n",
    "tweet_tokenizer = TweetTokenizer()"
   ]
  },
  {
   "cell_type": "code",
   "execution_count": 5,
   "id": "ac544b01-9dd6-4bcb-a828-5be2a3bc8ef2",
   "metadata": {},
   "outputs": [],
   "source": [
    "mwe_tokenizer = MWETokenizer([(\"widely\", \"used\"), (\"powerful\", \"library\")])"
   ]
  },
  {
   "cell_type": "code",
   "execution_count": 6,
   "id": "16220523-7485-4f70-80a8-39df2314c038",
   "metadata": {},
   "outputs": [],
   "source": [
    "# Applying tokenization techniques\n",
    "whitespace_tokens = whitespace_tokenizer.tokenize(sentence)\n",
    "punctuation_tokens = punctuation_tokenizer.tokenize(sentence)\n",
    "treebank_tokens = treebank_tokenizer.tokenize(sentence)\n",
    "tweet_tokens = tweet_tokenizer.tokenize(sentence)\n",
    "mwe_tokens = mwe_tokenizer.tokenize(sentence.split())"
   ]
  },
  {
   "cell_type": "code",
   "execution_count": 7,
   "id": "29ea82a8-d99c-4964-96b5-f44563476b27",
   "metadata": {},
   "outputs": [
    {
     "name": "stdout",
     "output_type": "stream",
     "text": [
      "Whitespace Tokenization: ['NLTK', 'is', 'a', 'powerful', 'library', 'for', 'NLP!', \"It's\", 'widely', 'used', 'in', 'academia', '&', 'industry.']\n",
      "Punctuation-based Tokenization: ['NLTK', 'is', 'a', 'powerful', 'library', 'for', 'NLP', '!', 'It', \"'\", 's', 'widely', 'used', 'in', 'academia', '&', 'industry', '.']\n",
      "Treebank Tokenization: ['NLTK', 'is', 'a', 'powerful', 'library', 'for', 'NLP', '!', 'It', \"'s\", 'widely', 'used', 'in', 'academia', '&', 'industry', '.']\n",
      "Tweet Tokenization: ['NLTK', 'is', 'a', 'powerful', 'library', 'for', 'NLP', '!', \"It's\", 'widely', 'used', 'in', 'academia', '&', 'industry', '.']\n",
      "MWE Tokenization: ['NLTK', 'is', 'a', 'powerful_library', 'for', 'NLP!', \"It's\", 'widely_used', 'in', 'academia', '&', 'industry.']\n"
     ]
    }
   ],
   "source": [
    "print(\"Whitespace Tokenization:\", whitespace_tokens)\n",
    "print(\"Punctuation-based Tokenization:\", punctuation_tokens)\n",
    "print(\"Treebank Tokenization:\", treebank_tokens)\n",
    "print(\"Tweet Tokenization:\", tweet_tokens)\n",
    "print(\"MWE Tokenization:\", mwe_tokens)"
   ]
  },
  {
   "cell_type": "code",
   "execution_count": null,
   "id": "43ba56d9-3dc3-458a-9b48-e67122f9784c",
   "metadata": {},
   "outputs": [],
   "source": []
  }
 ],
 "metadata": {
  "kernelspec": {
   "display_name": "Python 3 (ipykernel)",
   "language": "python",
   "name": "python3"
  },
  "language_info": {
   "codemirror_mode": {
    "name": "ipython",
    "version": 3
   },
   "file_extension": ".py",
   "mimetype": "text/x-python",
   "name": "python",
   "nbconvert_exporter": "python",
   "pygments_lexer": "ipython3",
   "version": "3.12.7"
  }
 },
 "nbformat": 4,
 "nbformat_minor": 5
}
